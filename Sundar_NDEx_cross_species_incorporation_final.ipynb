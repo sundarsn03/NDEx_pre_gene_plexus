{
 "cells": [
  {
   "cell_type": "code",
   "execution_count": null,
   "metadata": {},
   "outputs": [],
   "source": [
    "#function to get network from NDEX and produce a network visualization with genes from user"
   ]
  },
  {
   "cell_type": "code",
   "execution_count": 2,
   "metadata": {},
   "outputs": [],
   "source": [
    "#imports\n",
    "import ndex2\n",
    "import ndex2.client as nc\n",
    "import io\n",
    "import json\n",
    "from IPython.display import HTML\n",
    "from time import sleep\n",
    "import networkx as nx\n",
    "import pandas as pd\n",
    "import scipy as sp\n",
    "import matplotlib.pyplot as plt"
   ]
  },
  {
   "cell_type": "code",
   "execution_count": 3,
   "metadata": {},
   "outputs": [],
   "source": [
    "def get_adj_matrix_NDEx(uuid):\n",
    "    # Create NDEx2 python client\n",
    "    client = ndex2.client.Ndex2()\n",
    "    # Download BioGRID: Protein-Protein Interactions (SARS-CoV) from NDEx\n",
    "    # http://ndexbio.org/viewer/networks/669f30a3-cee6-11ea-aaef-0ac135e8bacf\n",
    "\n",
    "    client_resp = client.get_network_as_cx_stream(uuid)\n",
    "    # Convert downloaded network to NiceCXNetwork object\n",
    "    net_cx = ndex2.create_nice_cx_from_raw_cx(json.loads(client_resp.content))\n",
    "    # Display information about network and output 1st 100 characters of CX\n",
    "    print('Name: ' + net_cx.get_name())\n",
    "    print('Number of nodes: ' + str(len(list(net_cx.get_nodes()))))\n",
    "    print('Number of edges: ' + str(len(list(net_cx.get_edges()))))\n",
    "    print(json.dumps(net_cx.to_cx())[0:100])\n",
    "\n",
    "    # Create Networkx network\n",
    "    G = net_cx.to_networkx(mode='default')\n",
    "    a = nx.adjacency_matrix(G)\n",
    "    \n",
    "    return a.todense()\n",
    "    "
   ]
  },
  {
   "cell_type": "code",
   "execution_count": 10,
   "metadata": {},
   "outputs": [
    {
     "name": "stdout",
     "output_type": "stream",
     "text": [
      "Name: Breast mammary tissue\n",
      "Number of nodes: 10402\n",
      "Number of edges: 749395\n",
      "Generating CX\n",
      "[{\"numberVerification\": [{\"longNumber\": 281474976710655}]}, {\"metaData\": [{\"name\": \"nodes\", \"element\n"
     ]
    },
    {
     "data": {
      "text/plain": [
       "matrix([[0, 0, 0, ..., 0, 0, 0],\n",
       "        [1, 0, 0, ..., 0, 0, 0],\n",
       "        [0, 0, 0, ..., 0, 0, 0],\n",
       "        ...,\n",
       "        [0, 0, 0, ..., 0, 0, 0],\n",
       "        [0, 0, 0, ..., 1, 0, 0],\n",
       "        [0, 0, 0, ..., 1, 1, 0]], dtype=int64)"
      ]
     },
     "execution_count": 10,
     "metadata": {},
     "output_type": "execute_result"
    }
   ],
   "source": [
    "#Test 1: Breast mammary tissue, nodes = 10402, edges = 749395\n",
    "get_adj_matrix_NDEx('aa2c876e-5caa-11e7-8f50-0ac135e8bacf')"
   ]
  },
  {
   "cell_type": "code",
   "execution_count": 4,
   "metadata": {},
   "outputs": [
    {
     "name": "stdout",
     "output_type": "stream",
     "text": [
      "Name: GIANT\n",
      "Number of nodes: 17207\n",
      "Number of edges: 3631554\n",
      "Generating CX\n",
      "[{\"numberVerification\": [{\"longNumber\": 281474976710655}]}, {\"metaData\": [{\"name\": \"nodes\", \"element\n"
     ]
    },
    {
     "data": {
      "text/plain": [
       "matrix([[0, 0, 1, ..., 0, 0, 0],\n",
       "        [0, 0, 0, ..., 0, 0, 0],\n",
       "        [0, 0, 0, ..., 0, 0, 0],\n",
       "        ...,\n",
       "        [0, 0, 0, ..., 0, 0, 0],\n",
       "        [0, 0, 0, ..., 0, 0, 0],\n",
       "        [0, 0, 0, ..., 0, 0, 0]], dtype=int64)"
      ]
     },
     "execution_count": 4,
     "metadata": {},
     "output_type": "execute_result"
    }
   ],
   "source": [
    "#Test 2: GIANT, nodes = 17207, edges = 3631554\n",
    "get_adj_matrix_NDEx('08ba2a31-86da-11e7-a10d-0ac135e8bacf')"
   ]
  },
  {
   "cell_type": "code",
   "execution_count": 5,
   "metadata": {},
   "outputs": [],
   "source": [
    "def ndex_gene_list_user(gene_list_user, uuid):\n",
    "    # Create NDEx2 python client\n",
    "    client = ndex2.client.Ndex2()\n",
    "    # Download BioGRID: Protein-Protein Interactions (SARS-CoV) from NDEx\n",
    "    # http://ndexbio.org/viewer/networks/669f30a3-cee6-11ea-aaef-0ac135e8bacf\n",
    "\n",
    "    client_resp = client.get_network_as_cx_stream(uuid)\n",
    "    # Convert downloaded network to NiceCXNetwork object\n",
    "    net_cx = ndex2.create_nice_cx_from_raw_cx(json.loads(client_resp.content))\n",
    "    # Display information about network and output 1st 100 characters of CX\n",
    "    print('Name: ' + net_cx.get_name())\n",
    "    print('Number of nodes: ' + str(len(list(net_cx.get_nodes()))))\n",
    "    print('Number of edges: ' + str(len(list(net_cx.get_edges()))))\n",
    "    print(json.dumps(net_cx.to_cx())[0:100])\n",
    "\n",
    "    # Create Networkx network\n",
    "    G = net_cx.to_networkx(mode='default')\n",
    "    print('Name: ' + str(G))\n",
    "    print('Number of nodes: ' + str(G.number_of_nodes()))\n",
    "    print('Number of edges: ' + str(G.number_of_edges()))\n",
    "    print('Network annotations: ' + str(G.graph))\n",
    "    \n",
    "    node_name_dict = {}\n",
    "    \n",
    "    # Build dictionary and print out all the nodes\n",
    "    for node_id, node_obj in net_cx.get_nodes():\n",
    "        #print ('node_id: ' + str(node_id) + ' node_obj: ' + str(node_obj))\n",
    "        node_name_dict[node_obj['n']] = node_id\n",
    "        \n",
    "    \n",
    "    x_gene_list = []\n",
    "    \n",
    "    for i in gene_list_user:\n",
    "        if i in node_name_dict.keys():\n",
    "            x_gene_list.append(i)\n",
    "    #genes present in paper and the network in NDEX\n",
    "    return x_gene_list\n",
    "\n",
    "   "
   ]
  },
  {
   "cell_type": "code",
   "execution_count": 6,
   "metadata": {},
   "outputs": [
    {
     "name": "stdout",
     "output_type": "stream",
     "text": [
      "Name: BioGRID: Protein-Protein Interactions (SARS-CoV)\n",
      "Number of nodes: 1107\n",
      "Number of edges: 1295\n",
      "Generating CX\n",
      "[{\"numberVerification\": [{\"longNumber\": 281474976710655}]}, {\"metaData\": [{\"name\": \"nodes\", \"element\n",
      "Name: BioGRID: Protein-Protein Interactions (SARS-CoV)\n",
      "Number of nodes: 1107\n",
      "Number of edges: 1295\n",
      "Network annotations: {'@context': '{\"ncbigene\": \"http://identifiers.org/ncbigene/\", \"pubmed\": \"http://identifiers.org/pubmed/\"}', 'name': 'BioGRID: Protein-Protein Interactions (SARS-CoV)', 'description': '<p style=\"font-size: 12px;\">Proteins are normalized to official gene symbols and NCBI gene identifiers while alternative entity names and identifiers are provided in the alias field. Edges with identical properties (except citations) are collapsed to simplify visualization and citations displayed as a list of PMIDs. This network is updated periodically with the latest data available on the\\xa0<a href=\"https://thebiogrid.org/\" target=\"_blank\">BioGRID</a>.</p>', 'reference': '<p>Chatr-Aryamontri A et al.\\xa0<b style=\"font-size: 12px;\">The BioGRID interaction database: 2017 update.</b><br style=\"font-size: 12px;\"/>Nucleic Acids Res. 2016 Dec 14;2017(1)<br style=\"font-size: 12px;\"/><a href=\"http://doi.org/10.1093/nar/gkw1102\" target=\"_blank\" style=\"font-size: 12px;\">doi:10.1093/nar/gkw1102</a><br/></p>', 'version': '4.4.201', 'organism': 'SARS-CoV, 694009, hCoV-SARS', 'networkType': 'interactome,ppi', '__iconurl': 'https://home.ndexbio.org/img/biogrid_logo.jpg'}\n"
     ]
    },
    {
     "data": {
      "text/plain": [
       "['UNC93B1', 'TRAF3', 'TBK1', 'IRF3']"
      ]
     },
     "execution_count": 6,
     "metadata": {},
     "output_type": "execute_result"
    }
   ],
   "source": [
    "g1 = ['TLR3', 'IRF7', 'IRF9', 'TICAM1', 'UNC93B1', 'TRAF3', \n",
    "      'TBK1', 'IRF3', 'NEMO', 'IFNAR1', 'IFNAR2', 'STAT1', 'STAT2']\n",
    "\n",
    "SARS_COV2_gene_list = ndex_gene_list_user(g1,'669f30a3-cee6-11ea-aaef-0ac135e8bacf')\n",
    "SARS_COV2_gene_list"
   ]
  },
  {
   "cell_type": "code",
   "execution_count": 7,
   "metadata": {},
   "outputs": [
    {
     "name": "stdout",
     "output_type": "stream",
     "text": [
      "Name: GIANT\n",
      "Number of nodes: 17207\n",
      "Number of edges: 3631554\n",
      "Generating CX\n",
      "[{\"numberVerification\": [{\"longNumber\": 281474976710655}]}, {\"metaData\": [{\"name\": \"nodes\", \"element\n",
      "Name: GIANT\n",
      "Number of nodes: 17207\n",
      "Number of edges: 3631554\n",
      "Network annotations: {'name': 'GIANT', 'description': '<div></div><div>Binary interactions of the Genome-scale Integrated Analysis of gene Networks in Tissues (GIANT) network with all node names converted to HUGO Gene Symbol and filtered for only interactions between human genes. This network belongs to an\\xa0<a href=\"https://goo.gl/WVDznR\" target=\"\">NDEx Network Set</a>\\xa0associated with the 2018 Huang and Carlin et al. Cell Systems paper.</div><div><br/></div><div>The link to the raw network data source and the processing pipeline for this network can be found in this\\xa0<a href=\"https://github.com/idekerlab/Network_Evaluation_Tools/blob/master/Network%20Processing%20Notebooks/GIANT%20Processing.ipynb\" target=\"\">Jupyter notebook</a>.</div><div><br/></div><div><b>Additional references describing GIANT:</b></div> - Greene, C.S. et al., 2015. Understanding multicellular function and disease with human tissue-specific networks. Nature genetics, 47(6), pp.569–576.\\u200b<br/></div>', 'version': '1.0', 'author': 'Justin Huang', 'methods': 'Bayesian, Literature Curation, Database Integration', 'organism': 'Human, 9606, Homo sapien', 'rights': 'Attribution-NonCommercial 4.0 International (CC BY-NC 4.0)', 'rightsHolder': 'University of California San Diego', 'networkType': 'PPI, Co-Expression, Non-Protein, Regulation', 'reference': '<div>Huang JK*, Carlin DE*, Yu MK, Zhang W, Kreisberg JF, Tamayo P, Ideker T. (2018). Systematic Evaluation of Molecular Networks for Discovery of Disease Genes. <i>Cell Systems</i>. 4 (6): 484-495.e5. doi:&nbsp;<a class=\"doi\" href=\"https://doi.org/10.1016/j.cels.2018.03.001\" target=\"_blank\" title=\"Persistent link using digital object identifier\" style=\"background-color: transparent;font-size: 13px;\">10.1016/j.cels.2018.03.001</a></div>'}\n"
     ]
    },
    {
     "data": {
      "text/plain": [
       "['TLR3',\n",
       " 'IRF7',\n",
       " 'IRF9',\n",
       " 'TICAM1',\n",
       " 'UNC93B1',\n",
       " 'TRAF3',\n",
       " 'TBK1',\n",
       " 'IRF3',\n",
       " 'IFNAR1',\n",
       " 'IFNAR2',\n",
       " 'STAT1',\n",
       " 'STAT2']"
      ]
     },
     "execution_count": 7,
     "metadata": {},
     "output_type": "execute_result"
    }
   ],
   "source": [
    "#GIANT\n",
    "g1 = ['TLR3', 'IRF7', 'IRF9', 'TICAM1', 'UNC93B1', 'TRAF3', \n",
    "      'TBK1', 'IRF3', 'NEMO', 'IFNAR1', 'IFNAR2', 'STAT1', 'STAT2']\n",
    "\n",
    "GIANT_gene_list = ndex_gene_list_user(g1,'08ba2a31-86da-11e7-a10d-0ac135e8bacf')\n",
    "GIANT_gene_list"
   ]
  },
  {
   "cell_type": "code",
   "execution_count": 20,
   "metadata": {},
   "outputs": [],
   "source": [
    "def ndex_visualization(x_gene_list, UUID, output = True):\n",
    "    nice_cx_network_x = ndex2.create_nice_cx_from_server(server='public.ndexbio.org', uuid=UUID)\n",
    "    node_name_lookup = {node.get('n'): node.get('@id') for node_id, node in nice_cx_network_x.get_nodes()}\n",
    "    gene_nodes_x = []\n",
    "    for gene in x_gene_list:\n",
    "        gene_node_id = node_name_lookup.get(gene)\n",
    "        gene_node = nice_cx_network_x.get_node(gene_node_id)\n",
    "        gene_nodes_x.append(gene_node)\n",
    "    x_edges = []\n",
    "    node_ids = []\n",
    "    source = {}\n",
    "    target = []\n",
    "    interactions = []\n",
    "    for gene in x_gene_list:\n",
    "        gene_node_id = node_name_lookup.get(gene)\n",
    "        node_ids.append(gene_node_id)\n",
    "        \n",
    "        for edge_id, edge in nice_cx_network_x.get_edges():\n",
    "            if edge.get('s') == gene_node_id or edge.get('t') == gene_node_id:\n",
    "                x_edges.append(edge.get('@id'))\n",
    "\n",
    "        for edge_id, edge in nice_cx_network_x.get_edges():\n",
    "            if edge.get('s') == gene_node_id or edge.get('t') == gene_node_id:\n",
    "                source_node = nice_cx_network_x.get_node( edge.get('s') )\n",
    "                target_node = nice_cx_network_x.get_node( edge.get('t') )\n",
    "                if source_node.get('n') not in source.keys():\n",
    "                    source[source_node.get('n')] = [target_node.get('n')]\n",
    "                else:\n",
    "                    source[source_node.get('n')].append(target_node.get('n'))\n",
    "\n",
    "                if output:\n",
    "                    print('Source: %s Target: %s Interaction: %s' % (source_node.get('n'), target_node.get('n'), edge.get('i')))\n",
    "\n",
    "\n",
    "        \n",
    "    return source, target\n",
    "\n"
   ]
  },
  {
   "cell_type": "code",
   "execution_count": 21,
   "metadata": {},
   "outputs": [
    {
     "name": "stdout",
     "output_type": "stream",
     "text": [
      "Source: ORF7b Target: UNC93B1 Interaction: interacts-with\n",
      "Source: TRAF3 Target: ORF3a Interaction: interacts-with\n",
      "Source: nsp3ab Target: TRAF3 Interaction: interacts-with\n",
      "Source: M Target: TRAF3 Interaction: interacts-with\n",
      "Source: nsp3ab Target: TBK1 Interaction: interacts-with\n",
      "Source: M Target: TBK1 Interaction: interacts-with\n",
      "Source: nsp3ab Target: IRF3 Interaction: interacts-with\n"
     ]
    },
    {
     "data": {
      "text/plain": [
       "{'ORF7b': ['UNC93B1'],\n",
       " 'TRAF3': ['ORF3a'],\n",
       " 'nsp3ab': ['TRAF3', 'TBK1', 'IRF3'],\n",
       " 'M': ['TRAF3', 'TBK1']}"
      ]
     },
     "execution_count": 21,
     "metadata": {},
     "output_type": "execute_result"
    }
   ],
   "source": [
    "source_cov2, target_cov2 = ndex_visualization(SARS_COV2_gene_list,'669f30a3-cee6-11ea-aaef-0ac135e8bacf', True)\n",
    "\n",
    "source_cov2\n"
   ]
  },
  {
   "cell_type": "code",
   "execution_count": 22,
   "metadata": {},
   "outputs": [],
   "source": [
    "source_GIANT, target_GIANT = ndex_visualization(GIANT_gene_list,'08ba2a31-86da-11e7-a10d-0ac135e8bacf', False)\n",
    "\n",
    "\n"
   ]
  },
  {
   "cell_type": "code",
   "execution_count": 16,
   "metadata": {},
   "outputs": [],
   "source": [
    "def plot_NDEx_zoom_in(source,target, title, labels = True):\n",
    "    G1 = nx.DiGraph()\n",
    "    nodes1 = []\n",
    "    edges1 = []\n",
    "    for i in source.keys():\n",
    "        nodes1.append(i)\n",
    "        if len(source[i]) > 1:\n",
    "            for j in source[i]:\n",
    "                edges1.append((i, j))\n",
    "        else:\n",
    "            edges1.append((i, source[i][0]))\n",
    "    G1.add_nodes_from(nodes1)\n",
    "    G1.add_edges_from(edges1)\n",
    "    pos = nx.spring_layout(G1)\n",
    "    nx.draw_networkx_nodes(G1, pos=pos, node_color=\"tab:orange\")\n",
    "    \n",
    "    if labels:\n",
    "        nx.draw_networkx_labels(G1, pos=pos)\n",
    "    nx.draw_networkx_edges(G1, pos=pos)\n",
    "    plt.title(title)\n",
    "    plt.show() \n",
    "    "
   ]
  },
  {
   "cell_type": "code",
   "execution_count": 20,
   "metadata": {},
   "outputs": [
    {
     "name": "stderr",
     "output_type": "stream",
     "text": [
      "/mnt/home/sundarsn/software/anaconda3/lib/python3.7/site-packages/networkx/drawing/nx_pylab.py:579: MatplotlibDeprecationWarning: \n",
      "The iterable function was deprecated in Matplotlib 3.1 and will be removed in 3.3. Use np.iterable instead.\n",
      "  if not cb.iterable(width):\n",
      "/mnt/home/sundarsn/software/anaconda3/lib/python3.7/site-packages/networkx/drawing/nx_pylab.py:676: MatplotlibDeprecationWarning: \n",
      "The iterable function was deprecated in Matplotlib 3.1 and will be removed in 3.3. Use np.iterable instead.\n",
      "  if cb.iterable(node_size):  # many node sizes\n"
     ]
    },
    {
     "data": {
      "image/png": "[encoded data removed]",
      "text/plain": [
       "<Figure size 432x288 with 1 Axes>"
      ]
     },
     "metadata": {},
     "output_type": "display_data"
    }
   ],
   "source": [
    "plot_NDEx_zoom_in(source_cov2, target_cov2, 'COVID SARS')"
   ]
  },
  {
   "cell_type": "code",
   "execution_count": 22,
   "metadata": {},
   "outputs": [
    {
     "data": {
      "image/png": "[encoded data removed]",
      "text/plain": [
       "<Figure size 432x288 with 1 Axes>"
      ]
     },
     "metadata": {},
     "output_type": "display_data"
    }
   ],
   "source": [
    "plot_NDEx_zoom_in(source_GIANT, target_GIANT, 'GIANT', False)"
   ]
  },
  {
   "cell_type": "markdown",
   "metadata": {},
   "source": [
    "## Part 2"
   ]
  },
  {
   "cell_type": "code",
   "execution_count": 7,
   "metadata": {},
   "outputs": [],
   "source": [
    "#/mnt/research/compbio/krishnanlab/data/MyGeneInfo/20190821_Entrez_Multiple-Species/ID_conversions\n",
    "#check should be located in the data folder, so change the fp according to your machine\n",
    "check = pd.read_csv('/mnt/ufs18/home-179/sundarsn/repos/cross_species/src/NDEX/data/MGIalleleQuery_20220425_100225.txt', sep = \"\\t\")\n",
    "fp_MGI = '/mnt/research/compbio/krishnanlab/data/MyGeneInfo/20190821_Entrez_Multiple-Species/ID_conversions/Mus_musculus_Symbol_to_Entrez_All-Mappings.tsv'\n"
   ]
  },
  {
   "cell_type": "code",
   "execution_count": 8,
   "metadata": {},
   "outputs": [],
   "source": [
    "def get_orthologs_entrez(fp, df_gene_list_user):\n",
    "    f=pd.read_csv(fp,sep='\\t', header = None)\n",
    "    f.columns = ['Symbol', 'Entrez']\n",
    "    df_sorted = f.sort_values(\"Symbol\")\n",
    "    df_sorted = df_sorted.reset_index(drop = True)\n",
    "    gene_list_MGI = []\n",
    "    for i in check[\"Allele Symbol\"]:\n",
    "        position = i.find(\"<\")\n",
    "        if position != -1:\n",
    "            gene_list_MGI.append(i[0:position])\n",
    "    entrez = []\n",
    "    for i in gene_list_MGI:\n",
    "        ind = df_sorted.index[df_sorted['Symbol']==i]\n",
    "        ind1 = ind[0]\n",
    "        entrez.append(df_sorted['Entrez'][ind1])\n",
    "    return entrez\n",
    "\n",
    "\n",
    "\n",
    "\n"
   ]
  },
  {
   "cell_type": "code",
   "execution_count": 9,
   "metadata": {},
   "outputs": [
    {
     "data": {
      "text/plain": [
       "['319387',\n",
       " '12326',\n",
       " '12672',\n",
       " '12753',\n",
       " '76884',\n",
       " '76884',\n",
       " '13385',\n",
       " '13489',\n",
       " '13489',\n",
       " '13491',\n",
       " '13798',\n",
       " '14687',\n",
       " '26385',\n",
       " '26556',\n",
       " '26557',\n",
       " '16911',\n",
       " '66830',\n",
       " '18212',\n",
       " '18387',\n",
       " '18390',\n",
       " '18627',\n",
       " '19049',\n",
       " '19049',\n",
       " '243725',\n",
       " '217124',\n",
       " '20538',\n",
       " '13162',\n",
       " '216227']"
      ]
     },
     "execution_count": 9,
     "metadata": {},
     "output_type": "execute_result"
    }
   ],
   "source": [
    "get_orthologs_entrez(fp_MGI, check)"
   ]
  },
  {
   "cell_type": "code",
   "execution_count": null,
   "metadata": {},
   "outputs": [],
   "source": []
  }
 ],
 "metadata": {
  "kernelspec": {
   "display_name": "Python 3",
   "language": "python",
   "name": "python3"
  },
  "language_info": {
   "codemirror_mode": {
    "name": "ipython",
    "version": 3
   },
   "file_extension": ".py",
   "mimetype": "text/x-python",
   "name": "python",
   "nbconvert_exporter": "python",
   "pygments_lexer": "ipython3",
   "version": "3.7.4"
  }
 },
 "nbformat": 4,
 "nbformat_minor": 2
}
